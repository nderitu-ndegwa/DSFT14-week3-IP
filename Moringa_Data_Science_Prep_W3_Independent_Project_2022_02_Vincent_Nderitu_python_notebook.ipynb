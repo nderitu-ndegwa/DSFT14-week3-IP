{
  "nbformat": 4,
  "nbformat_minor": 0,
  "metadata": {
    "colab": {
      "name": "Moringa_Data_Science_Prep_W3_Independent_Project_2022_02_Vincent_Nderitu_Python_Notebook",
      "provenance": []
    },
    "kernelspec": {
      "name": "python3",
      "display_name": "Python 3"
    },
    "language_info": {
      "name": "python"
    }
  },
  "cells": [
    {
      "cell_type": "code",
      "execution_count": 1,
      "metadata": {
        "id": "OzocDdpcnLW3"
      },
      "outputs": [],
      "source": [
        "#importing packages\n",
        "import pandas as pd"
      ]
    },
    {
      "cell_type": "code",
      "source": [
        "#Loading the sql extension into the environment\n",
        "%load_ext sql\n",
        "\n",
        "#Establishing a connection to the memory sqlite database\n",
        "%sql sqlite://"
      ],
      "metadata": {
        "colab": {
          "base_uri": "https://localhost:8080/",
          "height": 36
        },
        "id": "ofgrHLdDnQf9",
        "outputId": "169ea2e1-f90b-4d15-9d64-fa0b438e3c68"
      },
      "execution_count": 2,
      "outputs": [
        {
          "output_type": "execute_result",
          "data": {
            "application/vnd.google.colaboratory.intrinsic+json": {
              "type": "string"
            },
            "text/plain": [
              "'Connected: @None'"
            ]
          },
          "metadata": {},
          "execution_count": 2
        }
      ]
    },
    {
      "cell_type": "code",
      "source": [
        "#Importing and loading the datasets\n",
        "with open('cells_geo.csv','r') as f:\n",
        "    cg = pd.read_csv(f, index_col=0, encoding='utf-8')\n",
        "    print(cg.notnull())\n",
        "    print(cg.head())\n",
        "\n",
        "    #removing null values\n",
        "    cg.dropna()\n",
        "\n",
        "#Saving Telcom_dataset2 into a database\n",
        "%sql DROP TABLE if EXISTS cg;\n",
        "%sql PERSIST cg;\n",
        "%sql SELECT * FROM cg LIMIT 5;"
      ],
      "metadata": {
        "colab": {
          "base_uri": "https://localhost:8080/",
          "height": 406
        },
        "id": "t0wkvn03nV_v",
        "outputId": "67111a21-56b6-403c-fb59-a6e9f8035f72"
      },
      "execution_count": 11,
      "outputs": [
        {
          "output_type": "stream",
          "name": "stdout",
          "text": [
            "Empty DataFrame\n",
            "Columns: []\n",
            "Index: [0;ADJAME;In Service;ABIDJAN;\"\"\"Abidjan_EST\";AGBANNEW;-4.00066666666667;5.36819444444444;LAGUNE;;fbb2e75af3;0bb492ef17, 1;ADJAME;In Service;ABIDJAN;\"\"\"Abidjan_EST\";AGBANNEW;-4.00066666666667;5.36819444444444;LAGUNE;;1502501d78;0bb492ef17, 2;ADJAME;In Service;ABIDJAN;\"\"\"Abidjan_EST\";AGBANNEW;-4.00066666666667;5.36819444444444;LAGUNE;;0c2e182a0c;0bb492ef17, 3;ASSINIE;In Service;INTERIEUR;Grand-EST;\"ASSINIE\"\"\";-3.48846666666667;5.15876111111111;SUD COMOE;;69bdfc69fd;8a1e6ce31f, 4;ASSINIE;In Service;INTERIEUR;Grand-EST;\"ASSINIE\"\"\";-3.48846666666667;5.15876111111111;SUD COMOE;;7a1029d2ab;8a1e6ce31f, 5;ASSINIE;In Service;INTERIEUR;Grand-EST;\"ASSINIE\"\"\";-3.48846666666667;5.15876111111111;SUD COMOE;;0b4f56438f;8a1e6ce31f, 6;KRIKOREA;In Service;INTERIEUR;Grand-OUEST;\"KRIKOREA\"\"\";-6.62705555555556;6.70736111111111;HAUT SASSANDRA;;041d2504f5;260dbfedc5, 7;ABOBO;In Service;ABIDJAN;\"\"\"Abidjan_NORD\";NPONON;-4.02358333333333;5.43569444444444;LAGUNE;;a70c1d263b;56306cc7ca, 8;ABOBO;In Service;ABIDJAN;\"\"\"Abidjan_NORD\";NPONON;-4.02358333333333;5.43569444444444;LAGUNE;;e2d04ea883;56306cc7ca, 9;ABOBO;;ABIDJAN;\"\"\"Abidjan_NORD\";NPONON;-4.02358333333333;5.43569444444444;LAGUNE;;ee224cd27e;56306cc7ca, 10;ABOBO;;ABIDJAN;\"\"\"Abidjan_NORD\";NPONON;-4.02358333333333;5.43569444444444;LAGUNE;;107d0d752c;56306cc7ca, 11;ABOBO;In Service;ABIDJAN;\"\"\"Abidjan_NORD\";OKAHOTEL;-3.99819444444444;5.424;LAGUNE;;3f766cedc0;c1ccd3443b, 12;ABOBO;In Service;ABIDJAN;\"\"\"Abidjan_NORD\";OKAHOTEL;-3.99819444444444;5.424;LAGUNE;;b0578cdb7f;c1ccd3443b, 13;ABOBO;In Service;ABIDJAN;\"\"\"Abidjan_NORD\";OKAHOTEL;-3.99819444444444;5.424;LAGUNE;;18a4221316;c1ccd3443b, 14;ABOBO;In Service;ABIDJAN;\"\"\"Abidjan_NORD\";OKAHOTEL;-3.99819444444444;5.424;LAGUNE;;1b2bccad1f;c1ccd3443b, 15;BINGERVILLE;In Service;ABIDJAN;\"\"\"Abidjan_EST\";PALMABINGERVILLE;-3.91022222222222;5.37363888888889;LAGUNE;;60865ff87f;17899e217a, 16;BINGERVILLE;In Service;ABIDJAN;\"\"\"Abidjan_EST\";PALMABINGERVILLE;-3.91022222222222;5.37363888888889;LAGUNE;;c1dc258dc9;17899e217a, 17;BINGERVILLE;In Service;ABIDJAN;\"\"\"Abidjan_EST\";PALMABINGERVILLE;-3.91022222222222;5.37363888888889;LAGUNE;;377ee76a7e;17899e217a, 18;PLATEAU;In Service;ABIDJAN;\"\"\"Abidjan_CENTRE\";TIAMA;-4.01986111111111;5.32608333333333;LAGUNE;;46185e38ee;aaca2668a7, 19;PLATEAU;In Service;ABIDJAN;\"\"\"Abidjan_CENTRE\";TIAMA;-4.01986111111111;5.32608333333333;LAGUNE;;ddb6bc11df;aaca2668a7, 20;PLATEAU;In Service;ABIDJAN;\"\"\"Abidjan_CENTRE\";TIAMA;-4.01986111111111;5.32608333333333;LAGUNE;;c4d2b0444b;aaca2668a7, 21;ADJAME;In Service;ABIDJAN;\"\"\"Abidjan_EST\";WILLIAMSVILLE2;-4.02880555555556;5.37613888888889;LAGUNE;;fa307adc83;92d827bd96, 22;ADJAME;In Service;ABIDJAN;\"\"\"Abidjan_EST\";WILLIAMSVILLE2;-4.02880555555556;5.37613888888889;LAGUNE;;4ddfebaf66;92d827bd96, 23;ABOBO;In Service;ABIDJAN;Abidjan_NORD;ZONE E - Abidjan_NORD;-4.01413888888889;5.4335;LAGUNE;ABIDJAN NORTH;f740406877;0f34c36ac5, 24;ABOBO;In Service;ABIDJAN;Abidjan_NORD;ZONE E - Abidjan_NORD;-4.01413888888889;5.4335;LAGUNE;ABIDJAN NORTH;959e54c8f7;0f34c36ac5, 25;ABOBO;In Service;ABIDJAN;Abidjan_NORD;ZONE E - Abidjan_NORD;-4.01413888888889;5.4335;LAGUNE;ABIDJAN NORTH;56b7e7000c;0f34c36ac5, 26;ABOBO;In Service;ABIDJAN;Abidjan_NORD;ZONE E - Abidjan_NORD;-4.01413888888889;5.4335;LAGUNE;ABIDJAN NORTH;bc51c17a6f;0f34c36ac5, 27;ABOBO;In Service;ABIDJAN;Abidjan_NORD;ZONE E - Abidjan_NORD;-4.01413888888889;5.4335;LAGUNE;ABIDJAN NORTH;e460975c9f;0f34c36ac5, 28;ABOBO;In Service;ABIDJAN;Abidjan_NORD;ZONE E - Abidjan_NORD;-4.01413888888889;5.4335;LAGUNE;ABIDJAN NORTH;2d125e9a95;0f34c36ac5, 29;ABOBO;In Service;ABIDJAN;Abidjan_NORD;ZONE E - Abidjan_NORD;-4.05919444444444;5.44861111111111;LAGUNE;ABIDJAN NORTH;7cf207ef76;7430461f18, 30;ABOBO;In Service;ABIDJAN;Abidjan_NORD;ZONE E - Abidjan_NORD;-4.05919444444444;5.44861111111111;LAGUNE;ABIDJAN NORTH;49377d7ad6;7430461f18, 31;ABOBO;In Service;ABIDJAN;Abidjan_NORD;ZONE E - Abidjan_NORD;-4.05919444444444;5.44861111111111;LAGUNE;ABIDJAN NORTH;558c31e1a6;7430461f18, 32;ABOBO;In Service;ABIDJAN;Abidjan_NORD;ZONE E - Abidjan_NORD;-4.05919444444444;5.44861111111111;LAGUNE;ABIDJAN NORTH;6a7a3aeebe;7430461f18, 33;ABOBO;In Service;ABIDJAN;Abidjan_NORD;ZONE E - Abidjan_NORD;-4.05919444444444;5.44861111111111;LAGUNE;ABIDJAN NORTH;28ef177389;7430461f18, 34;ABOBO;In Service;ABIDJAN;Abidjan_NORD;ZONE E - Abidjan_NORD;-4.05919444444444;5.44861111111111;LAGUNE;ABIDJAN NORTH;fb7b3b953d;7430461f18, 35;BINGERVILLE;In Service;ABIDJAN;Abidjan_EST;ZONE B - Abidjan_EST;-3.91958333333333;5.34608333333333;LAGUNE;ABIDJAN NORTH;1ca30ab7f2;ed2333b820, 36;BINGERVILLE;In Service;ABIDJAN;Abidjan_EST;ZONE B - Abidjan_EST;-3.91958333333333;5.34608333333333;LAGUNE;ABIDJAN NORTH;70ca5922f2;ed2333b820, 37;BINGERVILLE;In Service;ABIDJAN;Abidjan_EST;ZONE B - Abidjan_EST;-3.91958333333333;5.34608333333333;LAGUNE;ABIDJAN NORTH;a587218b55;ed2333b820, 38;DALOA;In Service;INTERIEUR;Grand-OUEST;ZONE D - Grand-OUEST;-6.43402777777778;6.85966666666667;HAUT SASSANDRA;NORTH WEST;d133371158;06c4cb622d, 39;DALOA;In Service;INTERIEUR;Grand-OUEST;ZONE D - Grand-OUEST;-6.43402777777778;6.85966666666667;HAUT SASSANDRA;NORTH WEST;77c2b596ad;06c4cb622d, 40;DALOA;In Service;INTERIEUR;Grand-OUEST;ZONE D - Grand-OUEST;-6.43402777777778;6.85966666666667;HAUT SASSANDRA;NORTH WEST;9cc0a0a14a;06c4cb622d, 41;DALOA;In Service;INTERIEUR;Grand-OUEST;ZONE D - Grand-OUEST;-6.43402777777778;6.85966666666667;HAUT SASSANDRA;NORTH WEST;af4aefb2f4;06c4cb622d, 42;DALOA;In Service;INTERIEUR;Grand-OUEST;ZONE D - Grand-OUEST;-6.43402777777778;6.85966666666667;HAUT SASSANDRA;NORTH WEST;de28a5d4d6;06c4cb622d, 43;DALOA;In Service;INTERIEUR;Grand-OUEST;ZONE D - Grand-OUEST;-6.43402777777778;6.85966666666667;HAUT SASSANDRA;NORTH WEST;6d0fccf527;06c4cb622d, 44;ABENGOUROU;In Service;INTERIEUR;Grand-EST;ZONE C - Grand-EST;-3.51483333333333;6.72233333333333;MOYEN COMOE;EAST;8cdfc1bc65;6e87d6cb59, 45;ABENGOUROU;In Service;INTERIEUR;Grand-EST;ZONE C - Grand-EST;-3.51483333333333;6.72233333333333;MOYEN COMOE;EAST;068ef168c8;6e87d6cb59, 46;ABENGOUROU;In Service;INTERIEUR;Grand-EST;ZONE C - Grand-EST;-3.51483333333333;6.72233333333333;MOYEN COMOE;EAST;f27e3dc31d;6e87d6cb59, 47;ABENGOUROU;In Service;INTERIEUR;Grand-EST;ZONE C - Grand-EST;-3.48047222222222;6.71816666666667;MOYEN COMOE;EAST;409393b253;aa2d7103fc, 48;ABENGOUROU;In Service;INTERIEUR;Grand-EST;ZONE C - Grand-EST;-3.48047222222222;6.71816666666667;MOYEN COMOE;EAST;cdb74d6e84;aa2d7103fc, 49;ABENGOUROU;In Service;INTERIEUR;Grand-EST;ZONE C - Grand-EST;-3.48047222222222;6.71816666666667;MOYEN COMOE;EAST;5b2176898a;aa2d7103fc, 50;ABENGOUROU;In Service;INTERIEUR;Grand-EST;ZONE C - Grand-EST;-3.4975;6.72741666666667;MOYEN COMOE;EAST;6954a418ce;00197a4f5f, 51;ABENGOUROU;In Service;INTERIEUR;Grand-EST;ZONE C - Grand-EST;-3.4975;6.72741666666667;MOYEN COMOE;EAST;2e4b9ad370;00197a4f5f, 52;ABENGOUROU;In Service;INTERIEUR;Grand-EST;ZONE C - Grand-EST;-3.4975;6.72741666666667;MOYEN COMOE;EAST;aa42aca73b;00197a4f5f, 53;ABENGOUROU;In Service;INTERIEUR;Grand-EST;ZONE C - Grand-EST;-3.50622222222222;6.74194444444444;MOYEN COMOE;EAST;564d597366;547385b9d5, 54;ABENGOUROU;In Service;INTERIEUR;Grand-EST;ZONE C - Grand-EST;-3.50622222222222;6.74194444444444;MOYEN COMOE;EAST;c811bd179b;547385b9d5, 55;ABENGOUROU;In Service;INTERIEUR;Grand-EST;ZONE C - Grand-EST;-3.50622222222222;6.74194444444444;MOYEN COMOE;EAST;a43c9bf333;547385b9d5, 56;ABENGOUROU;In Service;INTERIEUR;Grand-EST;ZONE C - Grand-EST;-3.48019444444444;6.73930555555556;MOYEN COMOE;EAST;ff33a69318;40cb5c4468, 57;ABENGOUROU;In Service;INTERIEUR;Grand-EST;ZONE C - Grand-EST;-3.48019444444444;6.73930555555556;MOYEN COMOE;EAST;330e0056d3;40cb5c4468, 58;ABENGOUROU;In Service;INTERIEUR;Grand-EST;ZONE C - Grand-EST;-3.48019444444444;6.73930555555556;MOYEN COMOE;EAST;318b00a960;40cb5c4468, 59;ABENGOUROU;In Service;INTERIEUR;Grand-EST;ZONE C - Grand-EST;-3.48019444444444;6.73930555555556;MOYEN COMOE;EAST;9413d07006;40cb5c4468, 60;ABENGOUROU;In Service;INTERIEUR;Grand-EST;ZONE C - Grand-EST;-3.48019444444444;6.73930555555556;MOYEN COMOE;EAST;da0a0f5dcd;40cb5c4468, 61;ABENGOUROU;In Service;INTERIEUR;Grand-EST;ZONE C - Grand-EST;-3.48019444444444;6.73930555555556;MOYEN COMOE;EAST;30ae371516;40cb5c4468, 62;ABENGOUROU;In Service;INTERIEUR;Grand-EST;ZONE C - Grand-EST;-3.4975;6.72741666666667;MOYEN COMOE;EAST;969c39ae2d;00197a4f5f, 63;ABENGOUROU;In Service;INTERIEUR;Grand-EST;ZONE C - Grand-EST;-3.4975;6.72741666666667;MOYEN COMOE;EAST;8a1e6ce31f;00197a4f5f, 64;ABENGOUROU;In Service;INTERIEUR;Grand-EST;ZONE C - Grand-EST;-3.4975;6.72741666666667;MOYEN COMOE;EAST;9bd64a932f;00197a4f5f, 65;ABOBO;In Service;ABIDJAN;Abidjan_NORD;ZONE E - Abidjan_NORD;-4.00783333333333;5.44061111111111;LAGUNE;ABIDJAN NORTH;4328f15c66;4df1cab780, 66;ABOBO;In Service;ABIDJAN;Abidjan_NORD;ZONE E - Abidjan_NORD;-4.00783333333333;5.44061111111111;LAGUNE;ABIDJAN NORTH;9f10dbbb99;4df1cab780, 67;ABOBO;In Service;ABIDJAN;Abidjan_NORD;ZONE E - Abidjan_NORD;-4.00783333333333;5.44061111111111;LAGUNE;ABIDJAN NORTH;49bc81d3b2;4df1cab780, 68;ABOBO;In Service;ABIDJAN;Abidjan_NORD;ZONE E - Abidjan_NORD;-4.00783333333333;5.44061111111111;LAGUNE;ABIDJAN NORTH;71fb04e216;4df1cab780, 69;ABOBO;In Service;ABIDJAN;Abidjan_NORD;ZONE E - Abidjan_NORD;-4.00783333333333;5.44061111111111;LAGUNE;ABIDJAN NORTH;4cdaa464e7;4df1cab780, 70;ABOBO;In Service;ABIDJAN;Abidjan_NORD;ZONE E - Abidjan_NORD;-4.00783333333333;5.44061111111111;LAGUNE;ABIDJAN NORTH;a64d6038c5;4df1cab780, 71;ABOBO;In Service;ABIDJAN;Abidjan_NORD;ZONE E - Abidjan_NORD;-4.01916666666667;5.42505555555556;LAGUNE;ABIDJAN NORTH;d214f6d918;8117043112, 72;ABOBO;In Service;ABIDJAN;Abidjan_NORD;ZONE E - Abidjan_NORD;-4.01916666666667;5.42505555555556;LAGUNE;ABIDJAN NORTH;81bdbbf775;8117043112, 73;ABOBO;In Service;ABIDJAN;Abidjan_NORD;ZONE E - Abidjan_NORD;-4.01916666666667;5.42505555555556;LAGUNE;ABIDJAN NORTH;80de4c7ba6;8117043112, 74;ABOBO;In Service;ABIDJAN;Abidjan_NORD;ZONE E - Abidjan_NORD;-4.01916666666667;5.42505555555556;LAGUNE;ABIDJAN NORTH;7597651fab;8117043112, 75;ABOBO;In Service;ABIDJAN;Abidjan_NORD;ZONE E - Abidjan_NORD;-4.01916666666667;5.42505555555556;LAGUNE;ABIDJAN NORTH;471dfb0a7d;8117043112, 76;ABOBO;In Service;ABIDJAN;Abidjan_NORD;ZONE E - Abidjan_NORD;-4.01916666666667;5.42505555555556;LAGUNE;ABIDJAN NORTH;2c5b020e51;8117043112, 77;ABOBO;In Service;ABIDJAN;Abidjan_NORD;ZONE E - Abidjan_NORD;-4.02333333333333;5.42741666666667;LAGUNE;ABIDJAN NORTH;d43ccddfde;2371f0c1df, 78;ABOBO;In Service;ABIDJAN;Abidjan_NORD;ZONE E - Abidjan_NORD;-4.02333333333333;5.42741666666667;LAGUNE;ABIDJAN NORTH;d2b3225b25;2371f0c1df, 79;ABOBO;In Service;ABIDJAN;Abidjan_NORD;ZONE E - Abidjan_NORD;-4.02333333333333;5.42741666666667;LAGUNE;ABIDJAN NORTH;8b9fcb248f;2371f0c1df, 80;ABOBO;In Service;ABIDJAN;Abidjan_NORD;ZONE E - Abidjan_NORD;-4.02333333333333;5.42741666666667;LAGUNE;ABIDJAN NORTH;257ffc6214;2371f0c1df, 81;ABOBO;In Service;ABIDJAN;Abidjan_NORD;ZONE E - Abidjan_NORD;-4.02333333333333;5.42741666666667;LAGUNE;ABIDJAN NORTH;5c75b48e72;2371f0c1df, 82;ABOBO;In Service;ABIDJAN;Abidjan_NORD;ZONE E - Abidjan_NORD;-4.02333333333333;5.42741666666667;LAGUNE;ABIDJAN NORTH;b982e56e2a;2371f0c1df, 83;ABOBO;In Service;ABIDJAN;Abidjan_NORD;ZONE E - Abidjan_NORD;-4.02016666666667;5.41147222222222;LAGUNE;ABIDJAN NORTH;a97cf2cba0;70a989da87, 84;ABOBO;In Service;ABIDJAN;Abidjan_NORD;ZONE E - Abidjan_NORD;-4.02016666666667;5.41147222222222;LAGUNE;ABIDJAN NORTH;729fdf3ff8;70a989da87, 85;ABOBO;In Service;ABIDJAN;Abidjan_NORD;ZONE E - Abidjan_NORD;-4.02016666666667;5.41147222222222;LAGUNE;ABIDJAN NORTH;033f3acd20;70a989da87, 86;ABOBO;In Service;ABIDJAN;Abidjan_NORD;ZONE E - Abidjan_NORD;-4.02016666666667;5.41147222222222;LAGUNE;ABIDJAN NORTH;5fb108850b;70a989da87, 87;ABOBO;In Service;ABIDJAN;Abidjan_NORD;ZONE E - Abidjan_NORD;-4.02016666666667;5.41147222222222;LAGUNE;ABIDJAN NORTH;98aeb969b3;70a989da87, 88;ABOBO;In Service;ABIDJAN;Abidjan_NORD;ZONE E - Abidjan_NORD;-4.02016666666667;5.41147222222222;LAGUNE;ABIDJAN NORTH;d7e48cc8fe;70a989da87, 89;ABOBO;In Service;ABIDJAN;Abidjan_NORD;ZONE E - Abidjan_NORD;-3.98244444444444;5.42502777777778;LAGUNE;ABIDJAN NORTH;704c5b2d5d;1c5e6fb08e, 90;ABOBO;In Service;ABIDJAN;Abidjan_NORD;ZONE E - Abidjan_NORD;-3.98244444444444;5.42502777777778;LAGUNE;ABIDJAN NORTH;d9e9cffced;1c5e6fb08e, 91;ABOBO;In Service;ABIDJAN;Abidjan_NORD;ZONE E - Abidjan_NORD;-3.98244444444444;5.42502777777778;LAGUNE;ABIDJAN NORTH;f20daa4efa;1c5e6fb08e, 92;ABOBO;In Service;ABIDJAN;Abidjan_NORD;ZONE E - Abidjan_NORD;-3.99227777777778;5.41852777777778;LAGUNE;ABIDJAN NORTH;20e538182a;ad67d8727e, 93;ABOBO;In Service;ABIDJAN;Abidjan_NORD;ZONE E - Abidjan_NORD;-3.99227777777778;5.41852777777778;LAGUNE;ABIDJAN NORTH;ac7829fb66;ad67d8727e, 94;ABOBO;In Service;ABIDJAN;Abidjan_NORD;ZONE E - Abidjan_NORD;-3.99227777777778;5.41852777777778;LAGUNE;ABIDJAN NORTH;e690e22c08;ad67d8727e, 95;ABOBO;In Service;ABIDJAN;Abidjan_NORD;ZONE E - Abidjan_NORD;-3.99227777777778;5.41852777777778;LAGUNE;ABIDJAN NORTH;2c18b14d1a;ad67d8727e, 96;ABOBO;In Service;ABIDJAN;Abidjan_NORD;ZONE E - Abidjan_NORD;-3.99227777777778;5.41852777777778;LAGUNE;ABIDJAN NORTH;ac60e8e2ba;ad67d8727e, 97;ABOBO;In Service;ABIDJAN;Abidjan_NORD;ZONE E - Abidjan_NORD;-3.99227777777778;5.41852777777778;LAGUNE;ABIDJAN NORTH;d73eea8c61;ad67d8727e, 98;ABOBO;In Service;ABIDJAN;Abidjan_NORD;ZONE E - Abidjan_NORD;-4.02333333333333;5.45027777777778;LAGUNE;ABIDJAN NORTH;9e8a10be39;d4b46cdec7, 99;ABOBO;In Service;ABIDJAN;Abidjan_NORD;ZONE E - Abidjan_NORD;-4.02333333333333;5.45027777777778;LAGUNE;ABIDJAN NORTH;8cee22269d;d4b46cdec7, ...]\n",
            "\n",
            "[3974 rows x 0 columns]\n",
            "Empty DataFrame\n",
            "Columns: []\n",
            "Index: [0;ADJAME;In Service;ABIDJAN;\"\"\"Abidjan_EST\";AGBANNEW;-4.00066666666667;5.36819444444444;LAGUNE;;fbb2e75af3;0bb492ef17, 1;ADJAME;In Service;ABIDJAN;\"\"\"Abidjan_EST\";AGBANNEW;-4.00066666666667;5.36819444444444;LAGUNE;;1502501d78;0bb492ef17, 2;ADJAME;In Service;ABIDJAN;\"\"\"Abidjan_EST\";AGBANNEW;-4.00066666666667;5.36819444444444;LAGUNE;;0c2e182a0c;0bb492ef17, 3;ASSINIE;In Service;INTERIEUR;Grand-EST;\"ASSINIE\"\"\";-3.48846666666667;5.15876111111111;SUD COMOE;;69bdfc69fd;8a1e6ce31f, 4;ASSINIE;In Service;INTERIEUR;Grand-EST;\"ASSINIE\"\"\";-3.48846666666667;5.15876111111111;SUD COMOE;;7a1029d2ab;8a1e6ce31f]\n",
            " * sqlite://\n",
            "Done.\n",
            " * sqlite://\n",
            " * sqlite://\n",
            "Done.\n"
          ]
        },
        {
          "output_type": "execute_result",
          "data": {
            "text/html": [
              "<table>\n",
              "    <thead>\n",
              "        <tr>\n",
              "            <th>;VILLES;STATUS;LOCALISATION;DECOUPZONE;ZONENAME;LONGITUDE;LATITUDE;REGION;AREA;CELL_ID;SITE_CODE</th>\n",
              "        </tr>\n",
              "    </thead>\n",
              "    <tbody>\n",
              "        <tr>\n",
              "            <td>0;ADJAME;In Service;ABIDJAN;&quot;&quot;&quot;Abidjan_EST&quot;;AGBANNEW;-4.00066666666667;5.36819444444444;LAGUNE;;fbb2e75af3;0bb492ef17</td>\n",
              "        </tr>\n",
              "        <tr>\n",
              "            <td>1;ADJAME;In Service;ABIDJAN;&quot;&quot;&quot;Abidjan_EST&quot;;AGBANNEW;-4.00066666666667;5.36819444444444;LAGUNE;;1502501d78;0bb492ef17</td>\n",
              "        </tr>\n",
              "        <tr>\n",
              "            <td>2;ADJAME;In Service;ABIDJAN;&quot;&quot;&quot;Abidjan_EST&quot;;AGBANNEW;-4.00066666666667;5.36819444444444;LAGUNE;;0c2e182a0c;0bb492ef17</td>\n",
              "        </tr>\n",
              "        <tr>\n",
              "            <td>3;ASSINIE;In Service;INTERIEUR;Grand-EST;&quot;ASSINIE&quot;&quot;&quot;;-3.48846666666667;5.15876111111111;SUD COMOE;;69bdfc69fd;8a1e6ce31f</td>\n",
              "        </tr>\n",
              "        <tr>\n",
              "            <td>4;ASSINIE;In Service;INTERIEUR;Grand-EST;&quot;ASSINIE&quot;&quot;&quot;;-3.48846666666667;5.15876111111111;SUD COMOE;;7a1029d2ab;8a1e6ce31f</td>\n",
              "        </tr>\n",
              "    </tbody>\n",
              "</table>"
            ],
            "text/plain": [
              "[('0;ADJAME;In Service;ABIDJAN;\"\"\"Abidjan_EST\";AGBANNEW;-4.00066666666667;5.36819444444444;LAGUNE;;fbb2e75af3;0bb492ef17',),\n",
              " ('1;ADJAME;In Service;ABIDJAN;\"\"\"Abidjan_EST\";AGBANNEW;-4.00066666666667;5.36819444444444;LAGUNE;;1502501d78;0bb492ef17',),\n",
              " ('2;ADJAME;In Service;ABIDJAN;\"\"\"Abidjan_EST\";AGBANNEW;-4.00066666666667;5.36819444444444;LAGUNE;;0c2e182a0c;0bb492ef17',),\n",
              " ('3;ASSINIE;In Service;INTERIEUR;Grand-EST;\"ASSINIE\"\"\";-3.48846666666667;5.15876111111111;SUD COMOE;;69bdfc69fd;8a1e6ce31f',),\n",
              " ('4;ASSINIE;In Service;INTERIEUR;Grand-EST;\"ASSINIE\"\"\";-3.48846666666667;5.15876111111111;SUD COMOE;;7a1029d2ab;8a1e6ce31f',)]"
            ]
          },
          "metadata": {},
          "execution_count": 11
        }
      ]
    },
    {
      "cell_type": "code",
      "source": [
        "#Loading the cells geo description\n",
        "with open('cells_geo_description.csv','r') as f:\n",
        "    cgd = pd.read_csv(f, index_col=0, encoding='utf-8')\n",
        "  \n",
        "\n",
        "#Saving Telcom_dataset2 into a database\n",
        "%sql DROP TABLE if EXISTS cgd;\n",
        "%sql PERSIST cgd;\n",
        "%sql SELECT * FROM cgd LIMIT 5;\n"
      ],
      "metadata": {
        "colab": {
          "base_uri": "https://localhost:8080/",
          "height": 239
        },
        "id": "JzHfqmD8nhdu",
        "outputId": "5e6d03dd-c640-49ff-a162-78fa198dc925"
      },
      "execution_count": 5,
      "outputs": [
        {
          "output_type": "stream",
          "name": "stdout",
          "text": [
            " * sqlite://\n",
            "Done.\n",
            " * sqlite://\n",
            " * sqlite://\n",
            "Done.\n"
          ]
        },
        {
          "output_type": "execute_result",
          "data": {
            "text/html": [
              "<table>\n",
              "    <thead>\n",
              "        <tr>\n",
              "            <th>Column name</th>\n",
              "            <th>Description</th>\n",
              "            <th>Format</th>\n",
              "        </tr>\n",
              "    </thead>\n",
              "    <tbody>\n",
              "        <tr>\n",
              "            <td>VILLES</td>\n",
              "            <td>City</td>\n",
              "            <td>String</td>\n",
              "        </tr>\n",
              "        <tr>\n",
              "            <td>STATUS</td>\n",
              "            <td>In Service or not</td>\n",
              "            <td>String</td>\n",
              "        </tr>\n",
              "        <tr>\n",
              "            <td>LOCALISATION</td>\n",
              "            <td>in ABIDJAN or not</td>\n",
              "            <td>String</td>\n",
              "        </tr>\n",
              "        <tr>\n",
              "            <td>DECOUPZONE</td>\n",
              "            <td>Geographical Zone</td>\n",
              "            <td>String</td>\n",
              "        </tr>\n",
              "        <tr>\n",
              "            <td>ZONENAME</td>\n",
              "            <td>Name of Zone</td>\n",
              "            <td>String</td>\n",
              "        </tr>\n",
              "    </tbody>\n",
              "</table>"
            ],
            "text/plain": [
              "[('VILLES', 'City', 'String'),\n",
              " ('STATUS', 'In Service or not', 'String'),\n",
              " ('LOCALISATION', 'in ABIDJAN or not', 'String'),\n",
              " ('DECOUPZONE', 'Geographical Zone', 'String'),\n",
              " ('ZONENAME', 'Name of Zone', 'String')]"
            ]
          },
          "metadata": {},
          "execution_count": 5
        }
      ]
    },
    {
      "cell_type": "code",
      "source": [
        "#Importing and loading data from the datasets\n",
        "with open('Telcom_dataset.csv','r') as f:\n",
        "    Tele1 = pd.read_csv(f, index_col=0, encoding='utf-8')\n",
        "    Tele1_new = Tele1.rename(columns={'PRODUTC': 'PRODUCT'}) \n",
        "    print(Tele1_new.notnull())\n",
        "    print(Tele1_new.head())\n",
        "\n",
        "#Saving Telcom_dataset into a database\n",
        "%sql DROP TABLE if EXISTS Tele1_new;\n",
        "%sql PERSIST Tele1_new;"
      ],
      "metadata": {
        "colab": {
          "base_uri": "https://localhost:8080/",
          "height": 532
        },
        "id": "CmFjKW6En6EL",
        "outputId": "072e40ba-8690-4780-b012-c77c132923f0"
      },
      "execution_count": 16,
      "outputs": [
        {
          "output_type": "stream",
          "name": "stdout",
          "text": [
            "         VALUE  DATETIME  CELL_ON_SITE  ...  COUNTRY_B  CELL_ID  SITE_ID\n",
            "PRODUTC                                 ...                             \n",
            "Voice     True      True          True  ...       True     True     True\n",
            "sms       True      True          True  ...       True     True     True\n",
            "sms       True      True          True  ...       True     True     True\n",
            "Voice     True      True          True  ...       True     True     True\n",
            "Voice     True      True          True  ...       True     True     True\n",
            "...        ...       ...           ...  ...        ...      ...      ...\n",
            "sms       True      True          True  ...       True     True     True\n",
            "Voice     True      True          True  ...       True     True     True\n",
            "Voice     True      True          True  ...       True     True     True\n",
            "Voice     True      True          True  ...       True     True     True\n",
            "Voice     True      True          True  ...       True     True     True\n",
            "\n",
            "[5001 rows x 9 columns]\n",
            "         VALUE               DATETIME  ...     CELL_ID     SITE_ID\n",
            "PRODUTC                                ...                        \n",
            "Voice        0  2012-05-06 23:04:37.0  ...  /TJNe+Mmtu  /TJNe+Mmtu\n",
            "sms          0  2012-05-06 23:05:25.0  ...  /+cKZKIp41  /+cKZKIp41\n",
            "sms         25  2012-05-06 23:05:41.0  ...  /u0FSD+ahi  /u0FSD+ahi\n",
            "Voice       56  2012-05-06 23:05:42.0  ...  +cNeJzsTp3  +cNeJzsTp3\n",
            "Voice       14  2012-05-06 23:06:29.0  ...  051KhYDCpv  051KhYDCpv\n",
            "\n",
            "[5 rows x 9 columns]\n",
            " * sqlite://\n",
            "Done.\n",
            " * sqlite://\n"
          ]
        },
        {
          "output_type": "execute_result",
          "data": {
            "application/vnd.google.colaboratory.intrinsic+json": {
              "type": "string"
            },
            "text/plain": [
              "'Persisted tele1_new'"
            ]
          },
          "metadata": {},
          "execution_count": 16
        }
      ]
    },
    {
      "cell_type": "code",
      "source": [
        ""
      ],
      "metadata": {
        "colab": {
          "base_uri": "https://localhost:8080/",
          "height": 532
        },
        "id": "LLgraZD0oEEI",
        "outputId": "85a69ec3-a569-4b10-9561-699be3b4db05"
      },
      "execution_count": 7,
      "outputs": [
        {
          "output_type": "stream",
          "name": "stdout",
          "text": [
            "         VALUE  DATE_TIME  CELL_ON_SITE  ...  COUNTRY_B  CELL_ID  SITE_ID\n",
            "PRODUCT                                  ...                             \n",
            "sms       True       True          True  ...       True     True     True\n",
            "Voice     True       True          True  ...       True     True     True\n",
            "sms       True       True          True  ...       True     True     True\n",
            "Voice     True       True          True  ...       True     True     True\n",
            "sms       True       True          True  ...       True     True     True\n",
            "...        ...        ...           ...  ...        ...      ...      ...\n",
            "sms       True       True          True  ...       True     True     True\n",
            "sms       True       True          True  ...       True     True     True\n",
            "sms       True       True          True  ...       True     True     True\n",
            "data      True       True          True  ...       True     True    False\n",
            "Voice     True       True          True  ...       True     True     True\n",
            "\n",
            "[5001 rows x 9 columns]\n",
            "         VALUE              DATE_TIME  ...     CELL_ID     SITE_ID\n",
            "PRODUCT                                ...                        \n",
            "sms          0  2012-05-07 23:02:06.0  ...  +854AcBQT2  +854AcBQT2\n",
            "Voice        0  2012-05-07 23:03:44.0  ...  +854AcBQT2  +854AcBQT2\n",
            "sms          0  2012-05-07 23:04:06.0  ...  +laSrk7g6q  +laSrk7g6q\n",
            "Voice       37  2012-05-07 23:04:48.0  ...  /xvRrCVKoQ  /xvRrCVKoQ\n",
            "sms         25  2012-05-07 23:04:58.0  ...  +bO+qkSonO  +bO+qkSonO\n",
            "\n",
            "[5 rows x 9 columns]\n",
            " * sqlite://\n",
            "Done.\n",
            " * sqlite://\n"
          ]
        },
        {
          "output_type": "execute_result",
          "data": {
            "application/vnd.google.colaboratory.intrinsic+json": {
              "type": "string"
            },
            "text/plain": [
              "'Persisted tele2'"
            ]
          },
          "metadata": {},
          "execution_count": 7
        }
      ]
    },
    {
      "cell_type": "code",
      "source": [
        "#Importing and loading data from the datasets\n",
        "with open('Telcom_dataset3.csv','r') as f:\n",
        "    Tele3 = pd.read_csv(f, index_col=0, encoding='utf-8')\n",
        "    Tele3_new = Tele3.rename(columns={'CELLID': 'CELL_ID', 'SIET_ID': 'SITE_ID'})\n",
        "    print(Tele3_new.notnull())\n",
        "    print(Tele3_new.head())\n",
        "\n",
        "#Saving Telcom_dataset into a database\n",
        "%sql DROP TABLE if EXISTS Tele3_new;\n",
        "%sql PERSIST Tele3_new;"
      ],
      "metadata": {
        "colab": {
          "base_uri": "https://localhost:8080/",
          "height": 588
        },
        "id": "eJ7za1xCoH2S",
        "outputId": "c0934350-f740-423f-cc68-7792ba60c374"
      },
      "execution_count": 23,
      "outputs": [
        {
          "output_type": "stream",
          "name": "stderr",
          "text": [
            "/usr/local/lib/python3.7/dist-packages/ipykernel_launcher.py:5: UserWarning: Pandas doesn't allow columns to be created via a new attribute name - see https://pandas.pydata.org/pandas-docs/stable/indexing.html#attribute-access\n",
            "  \"\"\"\n"
          ]
        },
        {
          "output_type": "stream",
          "name": "stdout",
          "text": [
            "         VALUE  DATE_TIME  CELL_ON_SITE  ...  COUNTRY_B  CELL_ID  SITE_ID\n",
            "PRODUCT                                  ...                             \n",
            "Voice     True       True          True  ...       True     True     True\n",
            "sms       True       True          True  ...       True     True     True\n",
            "Voice     True       True          True  ...       True     True     True\n",
            "sms       True       True          True  ...       True     True     True\n",
            "Voice     True       True          True  ...       True     True     True\n",
            "...        ...        ...           ...  ...        ...      ...      ...\n",
            "Voice     True       True          True  ...       True     True     True\n",
            "Voice     True       True          True  ...       True     True     True\n",
            "Voice     True       True          True  ...       True     True     True\n",
            "Voice     True       True          True  ...       True     True     True\n",
            "Voice     True       True          True  ...       True     True     True\n",
            "\n",
            "[5001 rows x 9 columns]\n",
            "         VALUE              DATE_TIME  ...     CELL_ID     SITE_ID\n",
            "PRODUCT                                ...                        \n",
            "Voice       61  2012-05-08 23:01:28.0  ...  +38u2u/rfx  +38u2u/rfx\n",
            "sms          0  2012-05-08 23:01:31.0  ...  +Fs4mTvdKx  +Fs4mTvdKx\n",
            "Voice       10  2012-05-08 23:02:59.0  ...  +ZaaZozy/+  +ZaaZozy/+\n",
            "sms          0  2012-05-08 23:03:04.0  ...  +cNeJzsTp3  +cNeJzsTp3\n",
            "Voice       22  2012-05-08 23:03:16.0  ...  /eeMklgyJA  /eeMklgyJA\n",
            "\n",
            "[5 rows x 9 columns]\n",
            " * sqlite://\n",
            "Done.\n",
            " * sqlite://\n"
          ]
        },
        {
          "output_type": "execute_result",
          "data": {
            "application/vnd.google.colaboratory.intrinsic+json": {
              "type": "string"
            },
            "text/plain": [
              "'Persisted tele3_new'"
            ]
          },
          "metadata": {},
          "execution_count": 23
        }
      ]
    },
    {
      "cell_type": "code",
      "source": [
        "#Listng dataframe column names\n",
        "list(Tele3_new)"
      ],
      "metadata": {
        "colab": {
          "base_uri": "https://localhost:8080/"
        },
        "id": "p4yFV6VOoMXn",
        "outputId": "48c0bf1d-e88a-4a02-8780-450645ab43cd"
      },
      "execution_count": 20,
      "outputs": [
        {
          "output_type": "execute_result",
          "data": {
            "text/plain": [
              "['VALUE',\n",
              " 'DATE_TIME',\n",
              " 'CELL_ON_SITE',\n",
              " 'DW_A_NUMBER_INT',\n",
              " 'DW_B_NUMBER_INT',\n",
              " 'COUNTRY_A',\n",
              " 'COUNTRY_B',\n",
              " 'CELL_ID',\n",
              " 'SITE_ID']"
            ]
          },
          "metadata": {},
          "execution_count": 20
        }
      ]
    },
    {
      "cell_type": "code",
      "source": [
        ""
      ],
      "metadata": {
        "id": "szNWgxB9wa7O"
      },
      "execution_count": null,
      "outputs": []
    }
  ]
}